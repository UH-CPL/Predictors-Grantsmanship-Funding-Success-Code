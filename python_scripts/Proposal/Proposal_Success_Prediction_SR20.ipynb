{
 "cells": [
  {
   "cell_type": "code",
   "execution_count": 826,
   "metadata": {},
   "outputs": [],
   "source": [
    "import gc\n",
    "import multiprocessing\n",
    "import pandas as pd\n",
    "import numpy as np\n",
    "from datetime import datetime\n",
    "import matplotlib.pyplot as plt\n",
    "from sklearn.model_selection import KFold\n",
    "from sklearn.feature_selection import RFECV\n",
    "from sklearn.metrics import roc_auc_score\n",
    "from sklearn.preprocessing import LabelEncoder\n",
    "from sklearn.tree import DecisionTreeClassifier\n",
    "import seaborn as sns\n",
    "import warnings\n",
    "from scipy.stats import boxcox\n",
    "warnings.simplefilter(action='ignore', category=FutureWarning)\n",
    "from sklearn import metrics\n",
    "from sklearn.metrics import f1_score\n",
    "from sklearn.metrics import roc_auc_score\n",
    "from sklearn.metrics import precision_recall_fscore_support as prfs\n",
    "from sklearn.metrics import accuracy_score, f1_score, confusion_matrix, recall_score, precision_score"
   ]
  },
  {
   "cell_type": "code",
   "execution_count": 827,
   "metadata": {},
   "outputs": [
    {
     "data": {
      "text/html": [
       "<div>\n",
       "<style scoped>\n",
       "    .dataframe tbody tr th:only-of-type {\n",
       "        vertical-align: middle;\n",
       "    }\n",
       "\n",
       "    .dataframe tbody tr th {\n",
       "        vertical-align: top;\n",
       "    }\n",
       "\n",
       "    .dataframe thead th {\n",
       "        text-align: right;\n",
       "    }\n",
       "</style>\n",
       "<table border=\"1\" class=\"dataframe\">\n",
       "  <thead>\n",
       "    <tr style=\"text-align: right;\">\n",
       "      <th></th>\n",
       "      <th>NASA</th>\n",
       "      <th>TA</th>\n",
       "      <th>EXT</th>\n",
       "      <th>AGR</th>\n",
       "      <th>CS</th>\n",
       "      <th>NT</th>\n",
       "      <th>OP</th>\n",
       "      <th>AV</th>\n",
       "      <th>EM</th>\n",
       "      <th>Task</th>\n",
       "      <th>...</th>\n",
       "      <th>NP</th>\n",
       "      <th>FA</th>\n",
       "      <th>SR</th>\n",
       "      <th>AP</th>\n",
       "      <th>AR</th>\n",
       "      <th>DWH</th>\n",
       "      <th>DWR</th>\n",
       "      <th>T</th>\n",
       "      <th>DS</th>\n",
       "      <th>Rank</th>\n",
       "    </tr>\n",
       "  </thead>\n",
       "  <tbody>\n",
       "    <tr>\n",
       "      <th>0</th>\n",
       "      <td>24</td>\n",
       "      <td>38</td>\n",
       "      <td>2</td>\n",
       "      <td>8</td>\n",
       "      <td>10</td>\n",
       "      <td>3</td>\n",
       "      <td>8</td>\n",
       "      <td>16</td>\n",
       "      <td>17</td>\n",
       "      <td>26</td>\n",
       "      <td>...</td>\n",
       "      <td>2</td>\n",
       "      <td>1</td>\n",
       "      <td>1</td>\n",
       "      <td>2</td>\n",
       "      <td>4</td>\n",
       "      <td>2</td>\n",
       "      <td>70</td>\n",
       "      <td>1</td>\n",
       "      <td>1</td>\n",
       "      <td>2</td>\n",
       "    </tr>\n",
       "    <tr>\n",
       "      <th>1</th>\n",
       "      <td>17</td>\n",
       "      <td>35</td>\n",
       "      <td>6</td>\n",
       "      <td>9</td>\n",
       "      <td>7</td>\n",
       "      <td>4</td>\n",
       "      <td>8</td>\n",
       "      <td>25</td>\n",
       "      <td>14</td>\n",
       "      <td>31</td>\n",
       "      <td>...</td>\n",
       "      <td>2</td>\n",
       "      <td>1</td>\n",
       "      <td>1</td>\n",
       "      <td>2</td>\n",
       "      <td>5</td>\n",
       "      <td>2</td>\n",
       "      <td>70</td>\n",
       "      <td>1</td>\n",
       "      <td>1</td>\n",
       "      <td>1</td>\n",
       "    </tr>\n",
       "    <tr>\n",
       "      <th>2</th>\n",
       "      <td>20</td>\n",
       "      <td>38</td>\n",
       "      <td>8</td>\n",
       "      <td>8</td>\n",
       "      <td>6</td>\n",
       "      <td>5</td>\n",
       "      <td>7</td>\n",
       "      <td>19</td>\n",
       "      <td>22</td>\n",
       "      <td>29</td>\n",
       "      <td>...</td>\n",
       "      <td>1</td>\n",
       "      <td>2</td>\n",
       "      <td>1</td>\n",
       "      <td>2</td>\n",
       "      <td>4</td>\n",
       "      <td>2</td>\n",
       "      <td>90</td>\n",
       "      <td>2</td>\n",
       "      <td>2</td>\n",
       "      <td>0</td>\n",
       "    </tr>\n",
       "    <tr>\n",
       "      <th>3</th>\n",
       "      <td>16</td>\n",
       "      <td>54</td>\n",
       "      <td>3</td>\n",
       "      <td>7</td>\n",
       "      <td>3</td>\n",
       "      <td>9</td>\n",
       "      <td>6</td>\n",
       "      <td>23</td>\n",
       "      <td>24</td>\n",
       "      <td>16</td>\n",
       "      <td>...</td>\n",
       "      <td>2</td>\n",
       "      <td>1</td>\n",
       "      <td>0</td>\n",
       "      <td>2</td>\n",
       "      <td>2</td>\n",
       "      <td>2</td>\n",
       "      <td>60</td>\n",
       "      <td>1</td>\n",
       "      <td>2</td>\n",
       "      <td>0</td>\n",
       "    </tr>\n",
       "    <tr>\n",
       "      <th>4</th>\n",
       "      <td>18</td>\n",
       "      <td>28</td>\n",
       "      <td>6</td>\n",
       "      <td>4</td>\n",
       "      <td>10</td>\n",
       "      <td>3</td>\n",
       "      <td>8</td>\n",
       "      <td>13</td>\n",
       "      <td>12</td>\n",
       "      <td>35</td>\n",
       "      <td>...</td>\n",
       "      <td>1</td>\n",
       "      <td>2</td>\n",
       "      <td>1</td>\n",
       "      <td>2</td>\n",
       "      <td>5</td>\n",
       "      <td>1</td>\n",
       "      <td>60</td>\n",
       "      <td>2</td>\n",
       "      <td>1</td>\n",
       "      <td>2</td>\n",
       "    </tr>\n",
       "  </tbody>\n",
       "</table>\n",
       "<p>5 rows × 25 columns</p>\n",
       "</div>"
      ],
      "text/plain": [
       "   NASA  TA  EXT  AGR  CS  NT  OP  AV  EM  Task  ...  NP  FA  SR  AP  AR  DWH  \\\n",
       "0    24  38    2    8  10   3   8  16  17    26  ...   2   1   1   2   4    2   \n",
       "1    17  35    6    9   7   4   8  25  14    31  ...   2   1   1   2   5    2   \n",
       "2    20  38    8    8   6   5   7  19  22    29  ...   1   2   1   2   4    2   \n",
       "3    16  54    3    7   3   9   6  23  24    16  ...   2   1   0   2   2    2   \n",
       "4    18  28    6    4  10   3   8  13  12    35  ...   1   2   1   2   5    1   \n",
       "\n",
       "   DWR  T  DS  Rank  \n",
       "0   70  1   1     2  \n",
       "1   70  1   1     1  \n",
       "2   90  2   2     0  \n",
       "3   60  1   2     0  \n",
       "4   60  2   1     2  \n",
       "\n",
       "[5 rows x 25 columns]"
      ]
     },
     "execution_count": 827,
     "metadata": {},
     "output_type": "execute_result"
    }
   ],
   "source": [
    "df = pd.read_csv(\"../../curated-data/ModelData_SR20.csv\")\n",
    "df.head(5)"
   ]
  },
  {
   "cell_type": "code",
   "execution_count": 828,
   "metadata": {},
   "outputs": [],
   "source": [
    "# BFI_List = ['EXT', 'AGR', 'CS', 'NT', 'OP']\n",
    "# df[\"BFI_SUM\"] = df[BFI_List].sum(axis=1)\n",
    "\n",
    "# CISS_List = ['AV', 'EM', 'Task']\n",
    "# df[\"CISS_SUM\"] = df[CISS_List].sum(axis=1)"
   ]
  },
  {
   "cell_type": "code",
   "execution_count": 829,
   "metadata": {},
   "outputs": [],
   "source": [
    "# df = df.drop(columns=['EXT', 'AGR', 'CS', 'NT', 'OP', 'AV', 'EM', 'Task'])"
   ]
  },
  {
   "cell_type": "code",
   "execution_count": 830,
   "metadata": {},
   "outputs": [
    {
     "name": "stdout",
     "output_type": "stream",
     "text": [
      "<class 'pandas.core.frame.DataFrame'>\n",
      "RangeIndex: 399 entries, 0 to 398\n",
      "Data columns (total 25 columns):\n",
      " #   Column  Non-Null Count  Dtype\n",
      "---  ------  --------------  -----\n",
      " 0   NASA    399 non-null    int64\n",
      " 1   TA      399 non-null    int64\n",
      " 2   EXT     399 non-null    int64\n",
      " 3   AGR     399 non-null    int64\n",
      " 4   CS      399 non-null    int64\n",
      " 5   NT      399 non-null    int64\n",
      " 6   OP      399 non-null    int64\n",
      " 7   AV      399 non-null    int64\n",
      " 8   EM      399 non-null    int64\n",
      " 9   Task    399 non-null    int64\n",
      " 10  H       399 non-null    int64\n",
      " 11  RS      399 non-null    int64\n",
      " 12  WH      399 non-null    int64\n",
      " 13  TWR     399 non-null    int64\n",
      " 14  BR      399 non-null    int64\n",
      " 15  NP      399 non-null    int64\n",
      " 16  FA      399 non-null    int64\n",
      " 17  SR      399 non-null    int64\n",
      " 18  AP      399 non-null    int64\n",
      " 19  AR      399 non-null    int64\n",
      " 20  DWH     399 non-null    int64\n",
      " 21  DWR     399 non-null    int64\n",
      " 22  T       399 non-null    int64\n",
      " 23  DS      399 non-null    int64\n",
      " 24  Rank    399 non-null    int64\n",
      "dtypes: int64(25)\n",
      "memory usage: 78.1 KB\n"
     ]
    }
   ],
   "source": [
    "df.info()"
   ]
  },
  {
   "cell_type": "code",
   "execution_count": 831,
   "metadata": {},
   "outputs": [
    {
     "data": {
      "text/plain": [
       "<AxesSubplot:>"
      ]
     },
     "execution_count": 831,
     "metadata": {},
     "output_type": "execute_result"
    },
    {
     "data": {
      "image/png": "[encoded data removed]",
      "text/plain": [
       "<Figure size 792x648 with 2 Axes>"
      ]
     },
     "metadata": {
      "needs_background": "light"
     },
     "output_type": "display_data"
    }
   ],
   "source": [
    "corr = df.corr()\n",
    "\n",
    "# Generate a mask for the upper triangle\n",
    "mask = np.triu(np.ones_like(corr, dtype=bool))\n",
    "\n",
    "# Set up the matplotlib figure\n",
    "f, ax = plt.subplots(figsize=(11, 9))\n",
    "\n",
    "# Generate a custom diverging colormap\n",
    "cmap = sns.diverging_palette(230, 20, as_cmap=True)\n",
    "\n",
    "# Draw the heatmap with the mask and correct aspect ratio\n",
    "sns.heatmap(corr, mask=mask, cmap=cmap, vmax=1, center=0, vmin=-1,\n",
    "            square=True, linewidths=.5, cbar_kws={\"shrink\": .5})"
   ]
  },
  {
   "cell_type": "code",
   "execution_count": 832,
   "metadata": {},
   "outputs": [],
   "source": [
    "from scipy import stats\n",
    "\n",
    "# df['TWR'],fitted_lambda = stats.boxcox(df['TWR'] + .01)\n",
    "# df['DWR'],fitted_lambda = stats.boxcox(df['DWR'] + .01)\n",
    "# df['CS'], lmbda = boxcox(df['CS'], lmbda=None)\n",
    "# df['OP'], lmbda = boxcox(df['OP'], lmbda=None)\n",
    "# df['Task'], lmbda = boxcox(df['Task'], lmbda=None)\n",
    "# df['AR'],fitted_lambda = stats.boxcox(df['AR'] + .01)"
   ]
  },
  {
   "cell_type": "code",
   "execution_count": 833,
   "metadata": {},
   "outputs": [],
   "source": [
    "# print('Distributions of all columns')\n",
    "# plt.figure(figsize=(30, 30))\n",
    "# for i, col in enumerate(list(df.columns)[0:24]):\n",
    "#     if i < 12:\n",
    "#         plt.subplot(8, 3, i + 1)\n",
    "#         sns.distplot(df[col], hist = False, kde = True, kde_kws = {'shade': True, 'linewidth': 3})\n",
    "#         plt.xlabel(df.columns[i], fontsize=14, fontweight='bold')"
   ]
  },
  {
   "cell_type": "code",
   "execution_count": 834,
   "metadata": {},
   "outputs": [],
   "source": [
    "# df['TWR'] = np.log(df['TWR'] + 0.001) \n",
    "# df['DWR'] = np.log(df['DWR'] + 0.001) "
   ]
  },
  {
   "cell_type": "code",
   "execution_count": 835,
   "metadata": {},
   "outputs": [],
   "source": [
    "# print('Distributions of all columns')\n",
    "# plt.figure(figsize=(30, 30))\n",
    "# for i, col in enumerate((df.columns)[0:24]):\n",
    "# # for i in range(12:24):\n",
    "# #     print(i)\n",
    "#     if i > 11:\n",
    "#         plt.subplot(8, 3, i + 1)\n",
    "#         sns.distplot(df[col],  hist = True, kde = False)\n",
    "#         plt.xlabel(df.columns[i], fontsize=14, fontweight='bold')"
   ]
  },
  {
   "cell_type": "code",
   "execution_count": 836,
   "metadata": {},
   "outputs": [],
   "source": [
    "\n",
    "# df['TWR'], lmbda = boxcox(df['TWR'], lmbda=None)\n",
    "# df['DWR'], lmbda = boxcox(df['DWR'], lmbda=None)"
   ]
  },
  {
   "cell_type": "code",
   "execution_count": 837,
   "metadata": {},
   "outputs": [],
   "source": [
    "from sklearn.model_selection import StratifiedShuffleSplit\n",
    "\n",
    "split = StratifiedShuffleSplit(n_splits=1, test_size=0.2, random_state=42)\n",
    "for train_index, test_index in split.split(df, df['SR']):\n",
    "    strat_train_set = df.loc[train_index]\n",
    "    strat_test_set = df.loc[test_index]\n",
    "\n",
    "X_train = strat_train_set.drop('SR', axis=1)\n",
    "Y_train = strat_train_set['SR'].copy()\n",
    "\n",
    "X_test = strat_test_set.drop('SR', axis=1)\n",
    "Y_test = strat_test_set['SR'].copy()"
   ]
  },
  {
   "cell_type": "code",
   "execution_count": 838,
   "metadata": {},
   "outputs": [
    {
     "data": {
      "image/png": "[encoded data removed]",
      "text/plain": [
       "<Figure size 432x288 with 2 Axes>"
      ]
     },
     "metadata": {},
     "output_type": "display_data"
    },
    {
     "name": "stdout",
     "output_type": "stream",
     "text": [
      "Wall time: 2.45 s\n"
     ]
    }
   ],
   "source": [
    "%%time\n",
    "from sklearn.ensemble import RandomForestClassifier\n",
    "\n",
    "rf = RandomForestClassifier(n_estimators = 1600, max_features = 'auto', bootstrap = True)\n",
    "rf.fit(X_train, Y_train)\n",
    "y_pred = rf.predict(X_test)\n",
    "y_score = rf.predict_proba(X_test)\n",
    "conf_mat = pd.DataFrame(confusion_matrix(Y_test, y_pred))\n",
    "sns.set(font_scale=1.4) # for label size\n",
    "plot = sns.heatmap(conf_mat, annot=True, annot_kws={\"size\": 16}) # font size\n",
    "plot.set(xlabel='Predicted', ylabel='Actual')\n",
    "plt.show()"
   ]
  },
  {
   "cell_type": "code",
   "execution_count": 839,
   "metadata": {},
   "outputs": [
    {
     "name": "stdout",
     "output_type": "stream",
     "text": [
      "Accuracy:  0.7625\n",
      "Precision:  0.7837837837837838\n",
      "Recall:  0.725\n",
      "F1:  0.7532467532467533\n",
      "Auc Score:  0.8228125\n"
     ]
    }
   ],
   "source": [
    "print(\"Accuracy: \", accuracy_score(Y_test, y_pred))\n",
    "print(\"Precision: \", precision_score(Y_test, y_pred))\n",
    "print(\"Recall: \", recall_score(Y_test, y_pred))\n",
    "print(\"F1: \", f1_score(Y_test, y_pred))\n",
    "print(\"Auc Score: \", roc_auc_score(Y_test, y_score[:,1]))"
   ]
  },
  {
   "cell_type": "code",
   "execution_count": 840,
   "metadata": {},
   "outputs": [
    {
     "data": {
      "text/html": [
       "<div>\n",
       "<style scoped>\n",
       "    .dataframe tbody tr th:only-of-type {\n",
       "        vertical-align: middle;\n",
       "    }\n",
       "\n",
       "    .dataframe tbody tr th {\n",
       "        vertical-align: top;\n",
       "    }\n",
       "\n",
       "    .dataframe thead th {\n",
       "        text-align: right;\n",
       "    }\n",
       "</style>\n",
       "<table border=\"1\" class=\"dataframe\">\n",
       "  <thead>\n",
       "    <tr style=\"text-align: right;\">\n",
       "      <th></th>\n",
       "      <th>feature importance</th>\n",
       "    </tr>\n",
       "  </thead>\n",
       "  <tbody>\n",
       "    <tr>\n",
       "      <th>H</th>\n",
       "      <td>0.076432</td>\n",
       "    </tr>\n",
       "    <tr>\n",
       "      <th>TA</th>\n",
       "      <td>0.073442</td>\n",
       "    </tr>\n",
       "    <tr>\n",
       "      <th>NP</th>\n",
       "      <td>0.071940</td>\n",
       "    </tr>\n",
       "    <tr>\n",
       "      <th>NASA</th>\n",
       "      <td>0.071669</td>\n",
       "    </tr>\n",
       "    <tr>\n",
       "      <th>EM</th>\n",
       "      <td>0.068962</td>\n",
       "    </tr>\n",
       "    <tr>\n",
       "      <th>AV</th>\n",
       "      <td>0.065675</td>\n",
       "    </tr>\n",
       "    <tr>\n",
       "      <th>Task</th>\n",
       "      <td>0.057641</td>\n",
       "    </tr>\n",
       "    <tr>\n",
       "      <th>EXT</th>\n",
       "      <td>0.049900</td>\n",
       "    </tr>\n",
       "    <tr>\n",
       "      <th>FA</th>\n",
       "      <td>0.048778</td>\n",
       "    </tr>\n",
       "    <tr>\n",
       "      <th>NT</th>\n",
       "      <td>0.046736</td>\n",
       "    </tr>\n",
       "    <tr>\n",
       "      <th>TWR</th>\n",
       "      <td>0.046660</td>\n",
       "    </tr>\n",
       "    <tr>\n",
       "      <th>OP</th>\n",
       "      <td>0.043793</td>\n",
       "    </tr>\n",
       "    <tr>\n",
       "      <th>DWR</th>\n",
       "      <td>0.043414</td>\n",
       "    </tr>\n",
       "    <tr>\n",
       "      <th>AGR</th>\n",
       "      <td>0.041971</td>\n",
       "    </tr>\n",
       "    <tr>\n",
       "      <th>CS</th>\n",
       "      <td>0.038226</td>\n",
       "    </tr>\n",
       "    <tr>\n",
       "      <th>AR</th>\n",
       "      <td>0.033229</td>\n",
       "    </tr>\n",
       "    <tr>\n",
       "      <th>Rank</th>\n",
       "      <td>0.031313</td>\n",
       "    </tr>\n",
       "    <tr>\n",
       "      <th>T</th>\n",
       "      <td>0.019282</td>\n",
       "    </tr>\n",
       "    <tr>\n",
       "      <th>DS</th>\n",
       "      <td>0.017970</td>\n",
       "    </tr>\n",
       "    <tr>\n",
       "      <th>BR</th>\n",
       "      <td>0.013745</td>\n",
       "    </tr>\n",
       "    <tr>\n",
       "      <th>RS</th>\n",
       "      <td>0.013304</td>\n",
       "    </tr>\n",
       "    <tr>\n",
       "      <th>DWH</th>\n",
       "      <td>0.010525</td>\n",
       "    </tr>\n",
       "    <tr>\n",
       "      <th>AP</th>\n",
       "      <td>0.009381</td>\n",
       "    </tr>\n",
       "    <tr>\n",
       "      <th>WH</th>\n",
       "      <td>0.006013</td>\n",
       "    </tr>\n",
       "  </tbody>\n",
       "</table>\n",
       "</div>"
      ],
      "text/plain": [
       "      feature importance\n",
       "H               0.076432\n",
       "TA              0.073442\n",
       "NP              0.071940\n",
       "NASA            0.071669\n",
       "EM              0.068962\n",
       "AV              0.065675\n",
       "Task            0.057641\n",
       "EXT             0.049900\n",
       "FA              0.048778\n",
       "NT              0.046736\n",
       "TWR             0.046660\n",
       "OP              0.043793\n",
       "DWR             0.043414\n",
       "AGR             0.041971\n",
       "CS              0.038226\n",
       "AR              0.033229\n",
       "Rank            0.031313\n",
       "T               0.019282\n",
       "DS              0.017970\n",
       "BR              0.013745\n",
       "RS              0.013304\n",
       "DWH             0.010525\n",
       "AP              0.009381\n",
       "WH              0.006013"
      ]
     },
     "execution_count": 840,
     "metadata": {},
     "output_type": "execute_result"
    }
   ],
   "source": [
    "df_feature_importance = pd.DataFrame(rf.feature_importances_, index=X_train.columns, columns=['feature importance']).sort_values('feature importance', ascending=False)\n",
    "df_feature_importance"
   ]
  },
  {
   "cell_type": "code",
   "execution_count": null,
   "metadata": {},
   "outputs": [],
   "source": []
  },
  {
   "cell_type": "code",
   "execution_count": 841,
   "metadata": {},
   "outputs": [
    {
     "data": {
      "image/png": "[encoded data removed]",
      "text/plain": [
       "<Figure size 1152x432 with 1 Axes>"
      ]
     },
     "metadata": {
      "needs_background": "light"
     },
     "output_type": "display_data"
    }
   ],
   "source": [
    "%matplotlib inline\n",
    "feature_imp = pd.Series(rf.feature_importances_,index=X_train.columns).sort_values(ascending=False)\n",
    "# Creating a bar plot\n",
    "plt.figure(figsize=(16, 6))\n",
    "sns.barplot(x=feature_imp, y=feature_imp.index)\n",
    "# Add labels to your graph\n",
    "plt.xlabel('Feature Importance Score', fontsize=18)\n",
    "plt.ylabel('Features', fontsize=18)\n",
    "plt.title(\"Visualizing Important Features\", fontsize=18)\n",
    "plt.rc('xtick',labelsize=12)\n",
    "plt.rc('ytick',labelsize=12)\n",
    "# plt.legend()\n",
    "plt.show()"
   ]
  },
  {
   "cell_type": "code",
   "execution_count": 842,
   "metadata": {},
   "outputs": [],
   "source": [
    "# result_df = X_test\n",
    "# result_df['actual'] = Y_test\n",
    "# result_df['prediction'] = y_pred        \n",
    "# result_df.to_csv('../modeling-result/result_df.csv', index=False)"
   ]
  },
  {
   "cell_type": "code",
   "execution_count": 843,
   "metadata": {},
   "outputs": [],
   "source": [
    "# result_df = result_df[result_df.actual != 0 ]\n",
    "# result_df"
   ]
  },
  {
   "cell_type": "code",
   "execution_count": 844,
   "metadata": {},
   "outputs": [],
   "source": [
    "# plt.figure(figsize=(30, 30))\n",
    "# for i, col in enumerate(list(result_df.columns)[0:23]):\n",
    "#     if i < 12:\n",
    "#         plt.subplot(8, 3, i + 1)\n",
    "#         sns.distplot(result_df[col], hist = False, kde = True, kde_kws = {'shade': True, 'linewidth': 3})\n",
    "#         plt.xlabel(result_df.columns[i], fontsize=14, fontweight='bold')"
   ]
  },
  {
   "cell_type": "code",
   "execution_count": 845,
   "metadata": {},
   "outputs": [],
   "source": [
    "# print('Distributions of all columns')\n",
    "# plt.figure(figsize=(30, 30))\n",
    "# for i, col in enumerate((result_df.columns)[0:24]):\n",
    "# # for i in range(12:24):\n",
    "# #     print(i)\n",
    "#     if i > 11:\n",
    "#         plt.subplot(8, 3, i + 1)\n",
    "#         sns.distplot(result_df[col],  hist = True, kde = False)\n",
    "#         plt.xlabel(result_df.columns[i], fontsize=14, fontweight='bold')"
   ]
  },
  {
   "cell_type": "code",
   "execution_count": 846,
   "metadata": {},
   "outputs": [
    {
     "data": {
      "text/plain": [
       "Index(['NASA', 'TA', 'EXT', 'AGR', 'CS', 'NT', 'OP', 'AV', 'EM', 'Task', 'H',\n",
       "       'RS', 'WH', 'TWR', 'BR', 'NP', 'FA', 'SR', 'AP', 'AR', 'DWH', 'DWR',\n",
       "       'T', 'DS', 'Rank'],\n",
       "      dtype='object')"
      ]
     },
     "execution_count": 846,
     "metadata": {},
     "output_type": "execute_result"
    }
   ],
   "source": [
    "# df_buffered = df[['CISS_SUM', 'H', 'TA', 'NASA', 'NP', 'BFI_SUM', 'DWR', 'TWR', 'AR', 'FA', 'Rank', 'DWH', 'SR']].copy()\n",
    "# df_buffered\n",
    "df.columns"
   ]
  },
  {
   "cell_type": "code",
   "execution_count": 847,
   "metadata": {},
   "outputs": [
    {
     "data": {
      "text/html": [
       "<div>\n",
       "<style scoped>\n",
       "    .dataframe tbody tr th:only-of-type {\n",
       "        vertical-align: middle;\n",
       "    }\n",
       "\n",
       "    .dataframe tbody tr th {\n",
       "        vertical-align: top;\n",
       "    }\n",
       "\n",
       "    .dataframe thead th {\n",
       "        text-align: right;\n",
       "    }\n",
       "</style>\n",
       "<table border=\"1\" class=\"dataframe\">\n",
       "  <thead>\n",
       "    <tr style=\"text-align: right;\">\n",
       "      <th></th>\n",
       "      <th>NASA</th>\n",
       "      <th>TA</th>\n",
       "      <th>EXT</th>\n",
       "      <th>AGR</th>\n",
       "      <th>CS</th>\n",
       "      <th>OP</th>\n",
       "      <th>AV</th>\n",
       "      <th>Task</th>\n",
       "      <th>H</th>\n",
       "      <th>RS</th>\n",
       "      <th>...</th>\n",
       "      <th>BR</th>\n",
       "      <th>NP</th>\n",
       "      <th>FA</th>\n",
       "      <th>SR</th>\n",
       "      <th>AP</th>\n",
       "      <th>AR</th>\n",
       "      <th>DWH</th>\n",
       "      <th>T</th>\n",
       "      <th>DS</th>\n",
       "      <th>Rank</th>\n",
       "    </tr>\n",
       "  </thead>\n",
       "  <tbody>\n",
       "    <tr>\n",
       "      <th>0</th>\n",
       "      <td>24</td>\n",
       "      <td>38</td>\n",
       "      <td>2</td>\n",
       "      <td>8</td>\n",
       "      <td>10</td>\n",
       "      <td>8</td>\n",
       "      <td>16</td>\n",
       "      <td>26</td>\n",
       "      <td>41</td>\n",
       "      <td>2</td>\n",
       "      <td>...</td>\n",
       "      <td>2</td>\n",
       "      <td>2</td>\n",
       "      <td>1</td>\n",
       "      <td>1</td>\n",
       "      <td>2</td>\n",
       "      <td>4</td>\n",
       "      <td>2</td>\n",
       "      <td>1</td>\n",
       "      <td>1</td>\n",
       "      <td>2</td>\n",
       "    </tr>\n",
       "    <tr>\n",
       "      <th>1</th>\n",
       "      <td>17</td>\n",
       "      <td>35</td>\n",
       "      <td>6</td>\n",
       "      <td>9</td>\n",
       "      <td>7</td>\n",
       "      <td>8</td>\n",
       "      <td>25</td>\n",
       "      <td>31</td>\n",
       "      <td>25</td>\n",
       "      <td>2</td>\n",
       "      <td>...</td>\n",
       "      <td>2</td>\n",
       "      <td>2</td>\n",
       "      <td>1</td>\n",
       "      <td>1</td>\n",
       "      <td>2</td>\n",
       "      <td>5</td>\n",
       "      <td>2</td>\n",
       "      <td>1</td>\n",
       "      <td>1</td>\n",
       "      <td>1</td>\n",
       "    </tr>\n",
       "    <tr>\n",
       "      <th>2</th>\n",
       "      <td>20</td>\n",
       "      <td>38</td>\n",
       "      <td>8</td>\n",
       "      <td>8</td>\n",
       "      <td>6</td>\n",
       "      <td>7</td>\n",
       "      <td>19</td>\n",
       "      <td>29</td>\n",
       "      <td>15</td>\n",
       "      <td>2</td>\n",
       "      <td>...</td>\n",
       "      <td>1</td>\n",
       "      <td>1</td>\n",
       "      <td>2</td>\n",
       "      <td>1</td>\n",
       "      <td>2</td>\n",
       "      <td>4</td>\n",
       "      <td>2</td>\n",
       "      <td>2</td>\n",
       "      <td>2</td>\n",
       "      <td>0</td>\n",
       "    </tr>\n",
       "    <tr>\n",
       "      <th>3</th>\n",
       "      <td>16</td>\n",
       "      <td>54</td>\n",
       "      <td>3</td>\n",
       "      <td>7</td>\n",
       "      <td>3</td>\n",
       "      <td>6</td>\n",
       "      <td>23</td>\n",
       "      <td>16</td>\n",
       "      <td>17</td>\n",
       "      <td>2</td>\n",
       "      <td>...</td>\n",
       "      <td>1</td>\n",
       "      <td>2</td>\n",
       "      <td>1</td>\n",
       "      <td>0</td>\n",
       "      <td>2</td>\n",
       "      <td>2</td>\n",
       "      <td>2</td>\n",
       "      <td>1</td>\n",
       "      <td>2</td>\n",
       "      <td>0</td>\n",
       "    </tr>\n",
       "    <tr>\n",
       "      <th>4</th>\n",
       "      <td>18</td>\n",
       "      <td>28</td>\n",
       "      <td>6</td>\n",
       "      <td>4</td>\n",
       "      <td>10</td>\n",
       "      <td>8</td>\n",
       "      <td>13</td>\n",
       "      <td>35</td>\n",
       "      <td>60</td>\n",
       "      <td>2</td>\n",
       "      <td>...</td>\n",
       "      <td>1</td>\n",
       "      <td>1</td>\n",
       "      <td>2</td>\n",
       "      <td>1</td>\n",
       "      <td>2</td>\n",
       "      <td>5</td>\n",
       "      <td>1</td>\n",
       "      <td>2</td>\n",
       "      <td>1</td>\n",
       "      <td>2</td>\n",
       "    </tr>\n",
       "    <tr>\n",
       "      <th>...</th>\n",
       "      <td>...</td>\n",
       "      <td>...</td>\n",
       "      <td>...</td>\n",
       "      <td>...</td>\n",
       "      <td>...</td>\n",
       "      <td>...</td>\n",
       "      <td>...</td>\n",
       "      <td>...</td>\n",
       "      <td>...</td>\n",
       "      <td>...</td>\n",
       "      <td>...</td>\n",
       "      <td>...</td>\n",
       "      <td>...</td>\n",
       "      <td>...</td>\n",
       "      <td>...</td>\n",
       "      <td>...</td>\n",
       "      <td>...</td>\n",
       "      <td>...</td>\n",
       "      <td>...</td>\n",
       "      <td>...</td>\n",
       "      <td>...</td>\n",
       "    </tr>\n",
       "    <tr>\n",
       "      <th>394</th>\n",
       "      <td>21</td>\n",
       "      <td>48</td>\n",
       "      <td>4</td>\n",
       "      <td>5</td>\n",
       "      <td>8</td>\n",
       "      <td>5</td>\n",
       "      <td>26</td>\n",
       "      <td>30</td>\n",
       "      <td>28</td>\n",
       "      <td>2</td>\n",
       "      <td>...</td>\n",
       "      <td>2</td>\n",
       "      <td>1</td>\n",
       "      <td>1</td>\n",
       "      <td>1</td>\n",
       "      <td>2</td>\n",
       "      <td>2</td>\n",
       "      <td>2</td>\n",
       "      <td>2</td>\n",
       "      <td>1</td>\n",
       "      <td>2</td>\n",
       "    </tr>\n",
       "    <tr>\n",
       "      <th>395</th>\n",
       "      <td>20</td>\n",
       "      <td>32</td>\n",
       "      <td>8</td>\n",
       "      <td>9</td>\n",
       "      <td>10</td>\n",
       "      <td>8</td>\n",
       "      <td>21</td>\n",
       "      <td>33</td>\n",
       "      <td>109</td>\n",
       "      <td>2</td>\n",
       "      <td>...</td>\n",
       "      <td>2</td>\n",
       "      <td>1</td>\n",
       "      <td>2</td>\n",
       "      <td>1</td>\n",
       "      <td>2</td>\n",
       "      <td>3</td>\n",
       "      <td>1</td>\n",
       "      <td>1</td>\n",
       "      <td>1</td>\n",
       "      <td>2</td>\n",
       "    </tr>\n",
       "    <tr>\n",
       "      <th>396</th>\n",
       "      <td>30</td>\n",
       "      <td>48</td>\n",
       "      <td>8</td>\n",
       "      <td>10</td>\n",
       "      <td>5</td>\n",
       "      <td>7</td>\n",
       "      <td>7</td>\n",
       "      <td>22</td>\n",
       "      <td>26</td>\n",
       "      <td>2</td>\n",
       "      <td>...</td>\n",
       "      <td>2</td>\n",
       "      <td>2</td>\n",
       "      <td>1</td>\n",
       "      <td>0</td>\n",
       "      <td>2</td>\n",
       "      <td>4</td>\n",
       "      <td>2</td>\n",
       "      <td>1</td>\n",
       "      <td>2</td>\n",
       "      <td>0</td>\n",
       "    </tr>\n",
       "    <tr>\n",
       "      <th>397</th>\n",
       "      <td>13</td>\n",
       "      <td>34</td>\n",
       "      <td>6</td>\n",
       "      <td>7</td>\n",
       "      <td>8</td>\n",
       "      <td>10</td>\n",
       "      <td>16</td>\n",
       "      <td>27</td>\n",
       "      <td>25</td>\n",
       "      <td>2</td>\n",
       "      <td>...</td>\n",
       "      <td>1</td>\n",
       "      <td>3</td>\n",
       "      <td>1</td>\n",
       "      <td>0</td>\n",
       "      <td>2</td>\n",
       "      <td>5</td>\n",
       "      <td>2</td>\n",
       "      <td>1</td>\n",
       "      <td>1</td>\n",
       "      <td>0</td>\n",
       "    </tr>\n",
       "    <tr>\n",
       "      <th>398</th>\n",
       "      <td>23</td>\n",
       "      <td>32</td>\n",
       "      <td>5</td>\n",
       "      <td>9</td>\n",
       "      <td>9</td>\n",
       "      <td>9</td>\n",
       "      <td>24</td>\n",
       "      <td>32</td>\n",
       "      <td>18</td>\n",
       "      <td>2</td>\n",
       "      <td>...</td>\n",
       "      <td>2</td>\n",
       "      <td>1</td>\n",
       "      <td>1</td>\n",
       "      <td>0</td>\n",
       "      <td>2</td>\n",
       "      <td>5</td>\n",
       "      <td>1</td>\n",
       "      <td>1</td>\n",
       "      <td>1</td>\n",
       "      <td>1</td>\n",
       "    </tr>\n",
       "  </tbody>\n",
       "</table>\n",
       "<p>399 rows × 22 columns</p>\n",
       "</div>"
      ],
      "text/plain": [
       "     NASA  TA  EXT  AGR  CS  OP  AV  Task    H  RS  ...  BR  NP  FA  SR  AP  \\\n",
       "0      24  38    2    8  10   8  16    26   41   2  ...   2   2   1   1   2   \n",
       "1      17  35    6    9   7   8  25    31   25   2  ...   2   2   1   1   2   \n",
       "2      20  38    8    8   6   7  19    29   15   2  ...   1   1   2   1   2   \n",
       "3      16  54    3    7   3   6  23    16   17   2  ...   1   2   1   0   2   \n",
       "4      18  28    6    4  10   8  13    35   60   2  ...   1   1   2   1   2   \n",
       "..    ...  ..  ...  ...  ..  ..  ..   ...  ...  ..  ...  ..  ..  ..  ..  ..   \n",
       "394    21  48    4    5   8   5  26    30   28   2  ...   2   1   1   1   2   \n",
       "395    20  32    8    9  10   8  21    33  109   2  ...   2   1   2   1   2   \n",
       "396    30  48    8   10   5   7   7    22   26   2  ...   2   2   1   0   2   \n",
       "397    13  34    6    7   8  10  16    27   25   2  ...   1   3   1   0   2   \n",
       "398    23  32    5    9   9   9  24    32   18   2  ...   2   1   1   0   2   \n",
       "\n",
       "     AR  DWH  T  DS  Rank  \n",
       "0     4    2  1   1     2  \n",
       "1     5    2  1   1     1  \n",
       "2     4    2  2   2     0  \n",
       "3     2    2  1   2     0  \n",
       "4     5    1  2   1     2  \n",
       "..   ..  ... ..  ..   ...  \n",
       "394   2    2  2   1     2  \n",
       "395   3    1  1   1     2  \n",
       "396   4    2  1   2     0  \n",
       "397   5    2  1   1     0  \n",
       "398   5    1  1   1     1  \n",
       "\n",
       "[399 rows x 22 columns]"
      ]
     },
     "execution_count": 847,
     "metadata": {},
     "output_type": "execute_result"
    }
   ],
   "source": [
    "df_buffered = df[['NASA', 'TA', 'EXT', 'AGR', 'CS', 'OP', 'AV',  'Task', 'H',\n",
    "       'RS', 'WH', 'TWR', 'BR', 'NP', 'FA', 'SR', 'AP', 'AR', 'DWH',\n",
    "       'T', 'DS', 'Rank']].copy()\n",
    "df_buffered"
   ]
  },
  {
   "cell_type": "code",
   "execution_count": 848,
   "metadata": {},
   "outputs": [
    {
     "data": {
      "text/plain": [
       "<AxesSubplot:>"
      ]
     },
     "execution_count": 848,
     "metadata": {},
     "output_type": "execute_result"
    },
    {
     "data": {
      "image/png": "[encoded data removed]",
      "text/plain": [
       "<Figure size 792x648 with 2 Axes>"
      ]
     },
     "metadata": {
      "needs_background": "light"
     },
     "output_type": "display_data"
    }
   ],
   "source": [
    "corr = df_buffered.corr()\n",
    "\n",
    "# Generate a mask for the upper triangle\n",
    "mask = np.triu(np.ones_like(corr, dtype=bool))\n",
    "\n",
    "# Set up the matplotlib figure\n",
    "f, ax = plt.subplots(figsize=(11, 9))\n",
    "\n",
    "# Generate a custom diverging colormap\n",
    "cmap = sns.diverging_palette(230, 20, as_cmap=True)\n",
    "\n",
    "# Draw the heatmap with the mask and correct aspect ratio\n",
    "sns.heatmap(corr, mask=mask, cmap=cmap, vmax=1, center=0, vmin=-1,\n",
    "            square=True, linewidths=.5, cbar_kws={\"shrink\": .5})"
   ]
  },
  {
   "cell_type": "code",
   "execution_count": 849,
   "metadata": {},
   "outputs": [],
   "source": [
    "split = StratifiedShuffleSplit(n_splits=1, test_size=0.2, random_state=42)\n",
    "for train_index, test_index in split.split(df_buffered, df['SR']):\n",
    "    strat_train_set = df_buffered.loc[train_index]\n",
    "    strat_test_set = df_buffered.loc[test_index]\n",
    "\n",
    "X_train = strat_train_set.drop('SR', axis=1)\n",
    "Y_train = strat_train_set['SR'].copy()\n",
    "\n",
    "X_test = strat_test_set.drop('SR', axis=1)\n",
    "Y_test = strat_test_set['SR'].copy()"
   ]
  },
  {
   "cell_type": "code",
   "execution_count": 850,
   "metadata": {},
   "outputs": [
    {
     "data": {
      "image/png": "[encoded data removed]",
      "text/plain": [
       "<Figure size 432x288 with 2 Axes>"
      ]
     },
     "metadata": {},
     "output_type": "display_data"
    },
    {
     "name": "stdout",
     "output_type": "stream",
     "text": [
      "Wall time: 2.58 s\n"
     ]
    }
   ],
   "source": [
    "%%time\n",
    "from sklearn.ensemble import RandomForestClassifier\n",
    "\n",
    "rf = RandomForestClassifier(n_estimators = 1600, max_features = 'auto', bootstrap = True)\n",
    "rf.fit(X_train, Y_train)\n",
    "y_pred = rf.predict(X_test)\n",
    "y_score = rf.predict_proba(X_test)\n",
    "conf_mat = pd.DataFrame(confusion_matrix(Y_test, y_pred))\n",
    "sns.set(font_scale=1.4) # for label size\n",
    "plot = sns.heatmap(conf_mat, annot=True, annot_kws={\"size\": 16}) # font size\n",
    "plot.set(xlabel='Predicted', ylabel='Actual')\n",
    "plt.show()"
   ]
  },
  {
   "cell_type": "code",
   "execution_count": 851,
   "metadata": {},
   "outputs": [
    {
     "name": "stdout",
     "output_type": "stream",
     "text": [
      "Accuracy:  0.7625\n",
      "Precision:  0.7560975609756098\n",
      "Recall:  0.775\n",
      "F1:  0.7654320987654322\n",
      "Auc Score:  0.8259375\n"
     ]
    }
   ],
   "source": [
    "print(\"Accuracy: \", accuracy_score(Y_test, y_pred))\n",
    "print(\"Precision: \", precision_score(Y_test, y_pred))\n",
    "print(\"Recall: \", recall_score(Y_test, y_pred))\n",
    "print(\"F1: \", f1_score(Y_test, y_pred))\n",
    "print(\"Auc Score: \", roc_auc_score(Y_test, y_score[:,1]))"
   ]
  },
  {
   "cell_type": "code",
   "execution_count": 852,
   "metadata": {},
   "outputs": [],
   "source": [
    "# result_df = X_test\n",
    "# result_df['actual'] = Y_test\n",
    "# result_df['prediction'] = y_pred          \n",
    "# result_df.to_csv('modeling-result/result_df.csv', index=False)"
   ]
  },
  {
   "cell_type": "code",
   "execution_count": 853,
   "metadata": {},
   "outputs": [
    {
     "data": {
      "text/html": [
       "<div>\n",
       "<style scoped>\n",
       "    .dataframe tbody tr th:only-of-type {\n",
       "        vertical-align: middle;\n",
       "    }\n",
       "\n",
       "    .dataframe tbody tr th {\n",
       "        vertical-align: top;\n",
       "    }\n",
       "\n",
       "    .dataframe thead th {\n",
       "        text-align: right;\n",
       "    }\n",
       "</style>\n",
       "<table border=\"1\" class=\"dataframe\">\n",
       "  <thead>\n",
       "    <tr style=\"text-align: right;\">\n",
       "      <th></th>\n",
       "      <th>feature importance</th>\n",
       "    </tr>\n",
       "  </thead>\n",
       "  <tbody>\n",
       "    <tr>\n",
       "      <th>H</th>\n",
       "      <td>0.091537</td>\n",
       "    </tr>\n",
       "    <tr>\n",
       "      <th>TA</th>\n",
       "      <td>0.090132</td>\n",
       "    </tr>\n",
       "    <tr>\n",
       "      <th>NASA</th>\n",
       "      <td>0.083740</td>\n",
       "    </tr>\n",
       "    <tr>\n",
       "      <th>AV</th>\n",
       "      <td>0.080251</td>\n",
       "    </tr>\n",
       "    <tr>\n",
       "      <th>NP</th>\n",
       "      <td>0.078323</td>\n",
       "    </tr>\n",
       "    <tr>\n",
       "      <th>Task</th>\n",
       "      <td>0.067353</td>\n",
       "    </tr>\n",
       "    <tr>\n",
       "      <th>EXT</th>\n",
       "      <td>0.060356</td>\n",
       "    </tr>\n",
       "    <tr>\n",
       "      <th>FA</th>\n",
       "      <td>0.057558</td>\n",
       "    </tr>\n",
       "    <tr>\n",
       "      <th>OP</th>\n",
       "      <td>0.054040</td>\n",
       "    </tr>\n",
       "    <tr>\n",
       "      <th>TWR</th>\n",
       "      <td>0.053842</td>\n",
       "    </tr>\n",
       "    <tr>\n",
       "      <th>AGR</th>\n",
       "      <td>0.052620</td>\n",
       "    </tr>\n",
       "    <tr>\n",
       "      <th>CS</th>\n",
       "      <td>0.047198</td>\n",
       "    </tr>\n",
       "    <tr>\n",
       "      <th>AR</th>\n",
       "      <td>0.040004</td>\n",
       "    </tr>\n",
       "    <tr>\n",
       "      <th>Rank</th>\n",
       "      <td>0.036224</td>\n",
       "    </tr>\n",
       "    <tr>\n",
       "      <th>T</th>\n",
       "      <td>0.022423</td>\n",
       "    </tr>\n",
       "    <tr>\n",
       "      <th>DS</th>\n",
       "      <td>0.019891</td>\n",
       "    </tr>\n",
       "    <tr>\n",
       "      <th>RS</th>\n",
       "      <td>0.015625</td>\n",
       "    </tr>\n",
       "    <tr>\n",
       "      <th>BR</th>\n",
       "      <td>0.015393</td>\n",
       "    </tr>\n",
       "    <tr>\n",
       "      <th>DWH</th>\n",
       "      <td>0.013976</td>\n",
       "    </tr>\n",
       "    <tr>\n",
       "      <th>AP</th>\n",
       "      <td>0.011627</td>\n",
       "    </tr>\n",
       "    <tr>\n",
       "      <th>WH</th>\n",
       "      <td>0.007887</td>\n",
       "    </tr>\n",
       "  </tbody>\n",
       "</table>\n",
       "</div>"
      ],
      "text/plain": [
       "      feature importance\n",
       "H               0.091537\n",
       "TA              0.090132\n",
       "NASA            0.083740\n",
       "AV              0.080251\n",
       "NP              0.078323\n",
       "Task            0.067353\n",
       "EXT             0.060356\n",
       "FA              0.057558\n",
       "OP              0.054040\n",
       "TWR             0.053842\n",
       "AGR             0.052620\n",
       "CS              0.047198\n",
       "AR              0.040004\n",
       "Rank            0.036224\n",
       "T               0.022423\n",
       "DS              0.019891\n",
       "RS              0.015625\n",
       "BR              0.015393\n",
       "DWH             0.013976\n",
       "AP              0.011627\n",
       "WH              0.007887"
      ]
     },
     "execution_count": 853,
     "metadata": {},
     "output_type": "execute_result"
    }
   ],
   "source": [
    "df_feature_importance = pd.DataFrame(rf.feature_importances_, index=X_train.columns, columns=['feature importance']).sort_values('feature importance', ascending=False)\n",
    "df_feature_importance"
   ]
  },
  {
   "cell_type": "code",
   "execution_count": 854,
   "metadata": {},
   "outputs": [
    {
     "data": {
      "image/png": "[encoded data removed]",
      "text/plain": [
       "<Figure size 1152x432 with 1 Axes>"
      ]
     },
     "metadata": {
      "needs_background": "light"
     },
     "output_type": "display_data"
    }
   ],
   "source": [
    "%matplotlib inline\n",
    "feature_imp = pd.Series(rf.feature_importances_,index=X_train.columns).sort_values(ascending=False)\n",
    "# Creating a bar plot\n",
    "plt.figure(figsize=(16, 6))\n",
    "sns.barplot(x=feature_imp, y=feature_imp.index)\n",
    "# Add labels to your graph\n",
    "plt.xlabel('Feature Importance Score', fontsize=18)\n",
    "plt.ylabel('Features', fontsize=18)\n",
    "plt.title(\"Visualizing Important Features\", fontsize=18)\n",
    "plt.rc('xtick',labelsize=12)\n",
    "plt.rc('ytick',labelsize=12)\n",
    "# plt.legend()\n",
    "plt.show()"
   ]
  },
  {
   "cell_type": "code",
   "execution_count": 855,
   "metadata": {},
   "outputs": [
    {
     "name": "stdout",
     "output_type": "stream",
     "text": [
      "<class 'pandas.core.frame.DataFrame'>\n",
      "RangeIndex: 399 entries, 0 to 398\n",
      "Data columns (total 7 columns):\n",
      " #   Column  Non-Null Count  Dtype\n",
      "---  ------  --------------  -----\n",
      " 0   NP      399 non-null    int64\n",
      " 1   FA      399 non-null    int64\n",
      " 2   H       399 non-null    int64\n",
      " 3   TA      399 non-null    int64\n",
      " 4   RS      399 non-null    int64\n",
      " 5   T       399 non-null    int64\n",
      " 6   SR      399 non-null    int64\n",
      "dtypes: int64(7)\n",
      "memory usage: 21.9 KB\n"
     ]
    }
   ],
   "source": [
    "# df_buffered = df[['NP', 'DS', 'H', 'RS','FA', 'TA', 'Rank', 'SR']].copy()\n",
    "# NP + FA + T + TA + RS + H\n",
    "df_buffered = df[['NP', 'FA', 'H', 'TA', 'RS', 'T', 'SR']].copy()\n",
    "# df_buffered = df[['NP', 'FA', 'H', 'TA', 'SR']].copy()\n",
    "df_buffered.info()\n"
   ]
  },
  {
   "cell_type": "code",
   "execution_count": 856,
   "metadata": {},
   "outputs": [
    {
     "data": {
      "text/html": [
       "<div>\n",
       "<style scoped>\n",
       "    .dataframe tbody tr th:only-of-type {\n",
       "        vertical-align: middle;\n",
       "    }\n",
       "\n",
       "    .dataframe tbody tr th {\n",
       "        vertical-align: top;\n",
       "    }\n",
       "\n",
       "    .dataframe thead th {\n",
       "        text-align: right;\n",
       "    }\n",
       "</style>\n",
       "<table border=\"1\" class=\"dataframe\">\n",
       "  <thead>\n",
       "    <tr style=\"text-align: right;\">\n",
       "      <th></th>\n",
       "      <th>NP</th>\n",
       "      <th>FA</th>\n",
       "      <th>H</th>\n",
       "      <th>TA</th>\n",
       "      <th>RS</th>\n",
       "      <th>T</th>\n",
       "      <th>SR</th>\n",
       "    </tr>\n",
       "  </thead>\n",
       "  <tbody>\n",
       "    <tr>\n",
       "      <th>0</th>\n",
       "      <td>2</td>\n",
       "      <td>1</td>\n",
       "      <td>41</td>\n",
       "      <td>38</td>\n",
       "      <td>2</td>\n",
       "      <td>1</td>\n",
       "      <td>1</td>\n",
       "    </tr>\n",
       "    <tr>\n",
       "      <th>1</th>\n",
       "      <td>2</td>\n",
       "      <td>1</td>\n",
       "      <td>25</td>\n",
       "      <td>35</td>\n",
       "      <td>2</td>\n",
       "      <td>1</td>\n",
       "      <td>1</td>\n",
       "    </tr>\n",
       "    <tr>\n",
       "      <th>2</th>\n",
       "      <td>1</td>\n",
       "      <td>2</td>\n",
       "      <td>15</td>\n",
       "      <td>38</td>\n",
       "      <td>2</td>\n",
       "      <td>2</td>\n",
       "      <td>1</td>\n",
       "    </tr>\n",
       "    <tr>\n",
       "      <th>3</th>\n",
       "      <td>2</td>\n",
       "      <td>1</td>\n",
       "      <td>17</td>\n",
       "      <td>54</td>\n",
       "      <td>2</td>\n",
       "      <td>1</td>\n",
       "      <td>0</td>\n",
       "    </tr>\n",
       "    <tr>\n",
       "      <th>4</th>\n",
       "      <td>1</td>\n",
       "      <td>2</td>\n",
       "      <td>60</td>\n",
       "      <td>28</td>\n",
       "      <td>2</td>\n",
       "      <td>2</td>\n",
       "      <td>1</td>\n",
       "    </tr>\n",
       "    <tr>\n",
       "      <th>...</th>\n",
       "      <td>...</td>\n",
       "      <td>...</td>\n",
       "      <td>...</td>\n",
       "      <td>...</td>\n",
       "      <td>...</td>\n",
       "      <td>...</td>\n",
       "      <td>...</td>\n",
       "    </tr>\n",
       "    <tr>\n",
       "      <th>394</th>\n",
       "      <td>1</td>\n",
       "      <td>1</td>\n",
       "      <td>28</td>\n",
       "      <td>48</td>\n",
       "      <td>2</td>\n",
       "      <td>2</td>\n",
       "      <td>1</td>\n",
       "    </tr>\n",
       "    <tr>\n",
       "      <th>395</th>\n",
       "      <td>1</td>\n",
       "      <td>2</td>\n",
       "      <td>109</td>\n",
       "      <td>32</td>\n",
       "      <td>2</td>\n",
       "      <td>1</td>\n",
       "      <td>1</td>\n",
       "    </tr>\n",
       "    <tr>\n",
       "      <th>396</th>\n",
       "      <td>2</td>\n",
       "      <td>1</td>\n",
       "      <td>26</td>\n",
       "      <td>48</td>\n",
       "      <td>2</td>\n",
       "      <td>1</td>\n",
       "      <td>0</td>\n",
       "    </tr>\n",
       "    <tr>\n",
       "      <th>397</th>\n",
       "      <td>3</td>\n",
       "      <td>1</td>\n",
       "      <td>25</td>\n",
       "      <td>34</td>\n",
       "      <td>2</td>\n",
       "      <td>1</td>\n",
       "      <td>0</td>\n",
       "    </tr>\n",
       "    <tr>\n",
       "      <th>398</th>\n",
       "      <td>1</td>\n",
       "      <td>1</td>\n",
       "      <td>18</td>\n",
       "      <td>32</td>\n",
       "      <td>2</td>\n",
       "      <td>1</td>\n",
       "      <td>0</td>\n",
       "    </tr>\n",
       "  </tbody>\n",
       "</table>\n",
       "<p>399 rows × 7 columns</p>\n",
       "</div>"
      ],
      "text/plain": [
       "     NP  FA    H  TA  RS  T  SR\n",
       "0     2   1   41  38   2  1   1\n",
       "1     2   1   25  35   2  1   1\n",
       "2     1   2   15  38   2  2   1\n",
       "3     2   1   17  54   2  1   0\n",
       "4     1   2   60  28   2  2   1\n",
       "..   ..  ..  ...  ..  .. ..  ..\n",
       "394   1   1   28  48   2  2   1\n",
       "395   1   2  109  32   2  1   1\n",
       "396   2   1   26  48   2  1   0\n",
       "397   3   1   25  34   2  1   0\n",
       "398   1   1   18  32   2  1   0\n",
       "\n",
       "[399 rows x 7 columns]"
      ]
     },
     "execution_count": 856,
     "metadata": {},
     "output_type": "execute_result"
    }
   ],
   "source": [
    "# from sklearn.preprocessing import MinMaxScaler\n",
    "# scaler = MinMaxScaler()\n",
    "# df_buffered[['NP', 'FA', 'T', 'H', 'TA', 'RS']] = scaler.fit_transform(df_buffered[['NP', 'FA', 'T', 'H', 'TA', 'RS']])\n",
    "# df_buffered[['NP', 'FA', 'H', 'TA']] = scaler.fit_transform(df_buffered[['NP', 'FA', 'H', 'TA']])\n",
    "df_buffered"
   ]
  },
  {
   "cell_type": "code",
   "execution_count": 857,
   "metadata": {},
   "outputs": [
    {
     "data": {
      "text/plain": [
       "<AxesSubplot:>"
      ]
     },
     "execution_count": 857,
     "metadata": {},
     "output_type": "execute_result"
    },
    {
     "data": {
      "image/png": "[encoded data removed]",
      "text/plain": [
       "<Figure size 792x648 with 2 Axes>"
      ]
     },
     "metadata": {
      "needs_background": "light"
     },
     "output_type": "display_data"
    }
   ],
   "source": [
    "corr = df_buffered.corr()\n",
    "\n",
    "# Generate a mask for the upper triangle\n",
    "mask = np.triu(np.ones_like(corr, dtype=bool))\n",
    "\n",
    "# Set up the matplotlib figure\n",
    "f, ax = plt.subplots(figsize=(11, 9))\n",
    "\n",
    "# Generate a custom diverging colormap\n",
    "cmap = sns.diverging_palette(230, 20, as_cmap=True)\n",
    "\n",
    "# Draw the heatmap with the mask and correct aspect ratio\n",
    "sns.heatmap(corr, mask=mask, cmap=cmap, vmax=1, center=0, vmin=-1,\n",
    "            square=True, linewidths=.5, cbar_kws={\"shrink\": .5})"
   ]
  },
  {
   "cell_type": "code",
   "execution_count": 858,
   "metadata": {},
   "outputs": [],
   "source": [
    "# df_buffered = df_buffered.astype(\"category\")\n",
    "# df_buffered.info()\n",
    "# df_buffered['H'] = df_buffered['H'].astype(\"float64\")\n",
    "# df_buffered.info()"
   ]
  },
  {
   "cell_type": "code",
   "execution_count": 859,
   "metadata": {},
   "outputs": [],
   "source": [
    "# df_buffered.FA.value_counts()"
   ]
  },
  {
   "cell_type": "code",
   "execution_count": 860,
   "metadata": {},
   "outputs": [],
   "source": [
    "split = StratifiedShuffleSplit(n_splits=1, test_size=0.2, random_state=42)\n",
    "for train_index, test_index in split.split(df_buffered, df['SR']):\n",
    "    strat_train_set = df_buffered.loc[train_index]\n",
    "    strat_test_set = df_buffered.loc[test_index]\n",
    "\n",
    "X_train = strat_train_set.drop('SR', axis=1)\n",
    "Y_train = strat_train_set['SR'].copy()\n",
    "\n",
    "X_test = strat_test_set.drop('SR', axis=1)\n",
    "Y_test = strat_test_set['SR'].copy()"
   ]
  },
  {
   "cell_type": "code",
   "execution_count": 861,
   "metadata": {},
   "outputs": [
    {
     "data": {
      "text/plain": [
       "243    1\n",
       "285    1\n",
       "217    0\n",
       "46     0\n",
       "253    1\n",
       "      ..\n",
       "270    0\n",
       "254    1\n",
       "386    1\n",
       "34     0\n",
       "168    1\n",
       "Name: SR, Length: 80, dtype: int64"
      ]
     },
     "execution_count": 861,
     "metadata": {},
     "output_type": "execute_result"
    }
   ],
   "source": [
    "Y_test"
   ]
  },
  {
   "cell_type": "code",
   "execution_count": 862,
   "metadata": {},
   "outputs": [
    {
     "data": {
      "image/png": "[encoded data removed]",
      "text/plain": [
       "<Figure size 432x288 with 2 Axes>"
      ]
     },
     "metadata": {},
     "output_type": "display_data"
    },
    {
     "name": "stdout",
     "output_type": "stream",
     "text": [
      "Wall time: 2.89 s\n"
     ]
    }
   ],
   "source": [
    "%%time\n",
    "from sklearn.ensemble import RandomForestClassifier\n",
    "\n",
    "rf = RandomForestClassifier(n_estimators = 2000,\n",
    "                                   max_features = 'auto',\n",
    "                                   bootstrap = True)\n",
    "rf.fit(X_train, Y_train)\n",
    "y_pred = rf.predict(X_test)\n",
    "y_score = rf.predict_proba(X_test)\n",
    "conf_mat = pd.DataFrame(confusion_matrix(Y_test, y_pred))\n",
    "sns.set(font_scale=1.4) # for label size\n",
    "plot = sns.heatmap(conf_mat, annot=True, annot_kws={\"size\": 16}) # font size\n",
    "plot.set(xlabel='Predicted', ylabel='Actual')\n",
    "plt.show()"
   ]
  },
  {
   "cell_type": "code",
   "execution_count": 863,
   "metadata": {},
   "outputs": [
    {
     "name": "stdout",
     "output_type": "stream",
     "text": [
      "Accuracy:  0.725\n",
      "Precision:  0.7368421052631579\n",
      "Recall:  0.7\n",
      "F1:  0.717948717948718\n",
      "Auc Score:  0.7603125000000001\n"
     ]
    }
   ],
   "source": [
    "print(\"Accuracy: \", accuracy_score(Y_test, y_pred))\n",
    "print(\"Precision: \", precision_score(Y_test, y_pred))\n",
    "print(\"Recall: \", recall_score(Y_test, y_pred))\n",
    "print(\"F1: \", f1_score(Y_test, y_pred))\n",
    "print(\"Auc Score: \", roc_auc_score(Y_test, y_score[:,1]))"
   ]
  },
  {
   "cell_type": "code",
   "execution_count": 864,
   "metadata": {},
   "outputs": [
    {
     "data": {
      "image/png": "[encoded data removed]",
      "text/plain": [
       "<Figure size 1152x432 with 1 Axes>"
      ]
     },
     "metadata": {
      "needs_background": "light"
     },
     "output_type": "display_data"
    }
   ],
   "source": [
    "%matplotlib inline\n",
    "feature_imp = pd.Series(rf.feature_importances_,index=X_train.columns).sort_values(ascending=False)\n",
    "# Creating a bar plot\n",
    "plt.figure(figsize=(16, 6))\n",
    "sns.barplot(x=feature_imp, y=feature_imp.index)\n",
    "# Add labels to your graph\n",
    "plt.xlabel('Feature Importance Score', fontsize=18)\n",
    "plt.ylabel('Features', fontsize=18)\n",
    "plt.title(\"Visualizing Important Features\", fontsize=18)\n",
    "plt.rc('xtick',labelsize=12)\n",
    "plt.rc('ytick',labelsize=12)\n",
    "# plt.legend()\n",
    "plt.show()"
   ]
  },
  {
   "cell_type": "code",
   "execution_count": 865,
   "metadata": {},
   "outputs": [],
   "source": [
    "from sklearn.metrics import r2_score, explained_variance_score, mean_absolute_error"
   ]
  },
  {
   "cell_type": "code",
   "execution_count": 866,
   "metadata": {},
   "outputs": [
    {
     "name": "stdout",
     "output_type": "stream",
     "text": [
      "R^2 score: -0.10\n",
      "MAE score: 0.28\n",
      "EVS score: -0.10\n"
     ]
    },
    {
     "data": {
      "image/png": "[encoded data removed]",
      "text/plain": [
       "<Figure size 432x288 with 1 Axes>"
      ]
     },
     "metadata": {
      "needs_background": "light"
     },
     "output_type": "display_data"
    }
   ],
   "source": [
    "predictions = rf.predict(X_test)\n",
    "print(f'R^2 score: {r2_score(y_true=Y_test, y_pred=predictions):.2f}')\n",
    "print(f'MAE score: {mean_absolute_error(y_true=Y_test, y_pred=predictions):.2f}')\n",
    "print(f'EVS score: {explained_variance_score(y_true=Y_test, y_pred=predictions):.2f}')\n",
    "rp = sns.regplot(x=Y_test, y=predictions)"
   ]
  },
  {
   "cell_type": "code",
   "execution_count": 867,
   "metadata": {},
   "outputs": [],
   "source": [
    "import pickle\n",
    "with open('proposal_rf.pkl', 'wb') as file:\n",
    "    pickle.dump(rf, file)"
   ]
  },
  {
   "cell_type": "code",
   "execution_count": 868,
   "metadata": {},
   "outputs": [],
   "source": [
    "# rf.predict([[2, 20, 2]])"
   ]
  }
 ],
 "metadata": {
  "kernelspec": {
   "display_name": "Python 3",
   "language": "python",
   "name": "python3"
  },
  "language_info": {
   "codemirror_mode": {
    "name": "ipython",
    "version": 3
   },
   "file_extension": ".py",
   "mimetype": "text/x-python",
   "name": "python",
   "nbconvert_exporter": "python",
   "pygments_lexer": "ipython3",
   "version": "3.8.5"
  }
 },
 "nbformat": 4,
 "nbformat_minor": 4
}
